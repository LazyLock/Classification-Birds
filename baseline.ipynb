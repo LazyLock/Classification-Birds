{
  "cells": [
    {
      "cell_type": "code",
      "execution_count": null,
      "metadata": {
        "colab": {
          "base_uri": "https://localhost:8080/"
        },
        "id": "vu0P5mH_ZtNJ",
        "outputId": "c95a4574-c8c8-4a69-fb5c-48f4a050d01c"
      },
      "outputs": [
        {
          "name": "stdout",
          "output_type": "stream",
          "text": [
            "Mounted at /content/drive\n"
          ]
        }
      ],
      "source": [
        "from google.colab import drive\n",
        "\n",
        "drive.mount('/content/drive')"
      ]
    },
    {
      "cell_type": "code",
      "execution_count": null,
      "metadata": {
        "id": "HIl7M508afCK"
      },
      "outputs": [],
      "source": [
        "import pandas as pd\n",
        "import numpy as np\n",
        "import matplotlib.pyplot as plt\n",
        "\n",
        "import zipfile\n",
        "import os\n",
        "\n",
        "from PIL import Image\n",
        "\n",
        "import torch\n",
        "from torch.utils.data import Dataset, DataLoader\n",
        "from torchvision import transforms\n",
        "import torch.nn as nn\n",
        "import torch.nn.functional as F\n",
        "\n",
        "from sklearn.model_selection import train_test_split"
      ]
    },
    {
      "cell_type": "code",
      "execution_count": null,
      "metadata": {
        "colab": {
          "base_uri": "https://localhost:8080/"
        },
        "id": "M4vgZo-6fXAA",
        "outputId": "eb4bdf42-b58b-4f99-ad0a-1d622f31f718"
      },
      "outputs": [
        {
          "name": "stdout",
          "output_type": "stream",
          "text": [
            "압축 파일이 Google Drive에 직접 해제되었습니다: /content/drive/MyDrive/2025-1 KUBIG/dataset\n"
          ]
        }
      ],
      "source": [
        "# 압축 파일 경로\n",
        "zip_file_path = '/content/drive/MyDrive/2025-1 KUBIG/open.zip'\n",
        "\n",
        "# Google Drive 내 압축 해제 폴더 경로\n",
        "drive_output_dir = '/content/drive/MyDrive/2025-1 KUBIG/dataset'\n",
        "\n",
        "# Google Drive 폴더가 없으면 생성\n",
        "os.makedirs(drive_output_dir, exist_ok=True)\n",
        "\n",
        "# Google Drive로 직접 압축 해제\n",
        "with zipfile.ZipFile(zip_file_path, 'r') as zip_ref:\n",
        "    zip_ref.extractall(drive_output_dir)  # Google Drive에 바로 압축 해제\n",
        "\n",
        "print(f\"압축 파일이 Google Drive에 직접 해제되었습니다: {drive_output_dir}\")"
      ]
    },
    {
      "cell_type": "markdown",
      "metadata": {
        "id": "tY38bhLcoLHA"
      },
      "source": [
        "#### Data Preprocessing"
      ]
    },
    {
      "cell_type": "code",
      "execution_count": null,
      "metadata": {
        "id": "bEudZcgVg1up"
      },
      "outputs": [],
      "source": [
        "train_path = \"/content/drive/MyDrive/25 Witnter DL/data/train\"\n",
        "ex_train_image = \"/content/drive/MyDrive/25 Witnter DL/data/train/TRAIN_00000.jpg\"\n",
        "\n",
        "train_df = pd.read_csv(\"/content/drive/MyDrive/25 Witnter DL/data/train.csv\")"
      ]
    },
    {
      "cell_type": "code",
      "execution_count": null,
      "metadata": {
        "id": "YNg2Vw68qmz6"
      },
      "outputs": [],
      "source": [
        "# image dataset 확인을 위한 custom function\n",
        "\n",
        "def custom_image_opener(image_path):\n",
        "\n",
        "    image = Image.open(image_path)\n",
        "\n",
        "    print(f\"Image size: {image.size}\")  # (width, height)\n",
        "    print(f\"Image mode: {image.mode}\")  # RGB or Grayscale\n",
        "\n",
        "    image_array = np.array(image)\n",
        "    print(f\"Array shape: {image_array.shape}\")\n",
        "    print(image_array)\n",
        "\n",
        "    plt.imshow(image)\n",
        "    plt.axis('off')\n",
        "    plt.show()"
      ]
    },
    {
      "cell_type": "code",
      "execution_count": null,
      "metadata": {
        "colab": {
          "base_uri": "https://localhost:8080/",
          "height": 1000
        },
        "id": "0R7ED1iMqxUS",
        "outputId": "e0c5203c-971f-412e-ecbb-8e4f7241b5b4"
      },
      "outputs": [
        {
          "name": "stdout",
          "output_type": "stream",
          "text": [
            "Image size: (64, 64)\n",
            "Image mode: RGB\n",
            "Array shape: (64, 64, 3)\n",
            "[[[129 115 104]\n",
            "  [130 116 105]\n",
            "  [131 119 107]\n",
            "  ...\n",
            "  [130 125  95]\n",
            "  [122 117  88]\n",
            "  [138 133 104]]\n",
            "\n",
            " [[131 117 106]\n",
            "  [135 121 110]\n",
            "  [140 128 116]\n",
            "  ...\n",
            "  [148 143 114]\n",
            "  [141 136 107]\n",
            "  [151 146 117]]\n",
            "\n",
            " [[121 109  97]\n",
            "  [129 117 105]\n",
            "  [138 126 114]\n",
            "  ...\n",
            "  [146 139 113]\n",
            "  [137 130 104]\n",
            "  [135 128 102]]\n",
            "\n",
            " ...\n",
            "\n",
            " [[105  95  86]\n",
            "  [104  94  85]\n",
            "  [103  93  84]\n",
            "  ...\n",
            "  [105  99  87]\n",
            "  [104  98  86]\n",
            "  [104  98  86]]\n",
            "\n",
            " [[113 100  91]\n",
            "  [112  99  90]\n",
            "  [110  97  89]\n",
            "  ...\n",
            "  [104  98  86]\n",
            "  [103  97  85]\n",
            "  [103  97  85]]\n",
            "\n",
            " [[113 100  91]\n",
            "  [111  98  89]\n",
            "  [109  96  88]\n",
            "  ...\n",
            "  [104  98  86]\n",
            "  [102  96  84]\n",
            "  [101  95  83]]]\n"
          ]
        },
        {
          "data": {
            "image/png": "[encoded data removed]",
            "text/plain": [
              "<Figure size 640x480 with 1 Axes>"
            ]
          },
          "metadata": {},
          "output_type": "display_data"
        }
      ],
      "source": [
        "custom_image_opener(ex_train_image)"
      ]
    },
    {
      "cell_type": "code",
      "execution_count": null,
      "metadata": {
        "colab": {
          "base_uri": "https://localhost:8080/"
        },
        "id": "AmsYpNI5xXz1",
        "outputId": "481a6c58-e2ac-462c-b574-93a1225cd6f2"
      },
      "outputs": [
        {
          "name": "stdout",
          "output_type": "stream",
          "text": [
            "{'Asian Green Bee-Eater': 0, 'Brown-Headed Barbet': 1, 'Cattle Egret': 2, 'Common Kingfisher': 3, 'Common Myna': 4, 'Common Rosefinch': 5, 'Common Tailorbird': 6, 'Coppersmith Barbet': 7, 'Forest Wagtail': 8, 'Gray Wagtail': 9, 'Hoopoe': 10, 'House Crow': 11, 'Indian Grey Hornbill': 12, 'Indian Peacock': 13, 'Indian Pitta': 14, 'Indian Roller': 15, 'Jungle Babbler': 16, 'Northern Lapwing': 17, 'Red-Wattled Lapwing': 18, 'Ruddy Shelduck': 19, 'Rufous Treepie': 20, 'Sarus Crane': 21, 'White Wagtail': 22, 'White-Breasted Kingfisher': 23, 'White-Breasted Waterhen': 24}\n",
            "{0: 'Asian Green Bee-Eater', 1: 'Brown-Headed Barbet', 2: 'Cattle Egret', 3: 'Common Kingfisher', 4: 'Common Myna', 5: 'Common Rosefinch', 6: 'Common Tailorbird', 7: 'Coppersmith Barbet', 8: 'Forest Wagtail', 9: 'Gray Wagtail', 10: 'Hoopoe', 11: 'House Crow', 12: 'Indian Grey Hornbill', 13: 'Indian Peacock', 14: 'Indian Pitta', 15: 'Indian Roller', 16: 'Jungle Babbler', 17: 'Northern Lapwing', 18: 'Red-Wattled Lapwing', 19: 'Ruddy Shelduck', 20: 'Rufous Treepie', 21: 'Sarus Crane', 22: 'White Wagtail', 23: 'White-Breasted Kingfisher', 24: 'White-Breasted Waterhen'}\n"
          ]
        }
      ],
      "source": [
        "# label 인코딩\n",
        "\n",
        "labels = set(list(train_df[\"label\"]))\n",
        "\n",
        "label_to_index = {label: idx for idx, label in enumerate(sorted(labels))}\n",
        "index_to_label = {idx: label for label, idx in label_to_index.items()}\n",
        "\n",
        "print(label_to_index)\n",
        "print(index_to_label)"
      ]
    },
    {
      "cell_type": "code",
      "execution_count": null,
      "metadata": {
        "id": "Z9c2XYBvr9uO"
      },
      "outputs": [],
      "source": [
        "# train_dataset 으로 저장\n",
        "\n",
        "train_dataset = []\n",
        "train_labels = []\n",
        "\n",
        "for index, row in train_df.iterrows():\n",
        "    img_path = row['img_path']\n",
        "    img_label = row['label']\n",
        "\n",
        "    image = Image.open(img_path)\n",
        "    image_array = np.array(image)\n",
        "\n",
        "    train_dataset.append(image_array)\n",
        "    encoded_label = label_to_index[img_label]\n",
        "    train_labels.append(encoded_label)\n",
        "\n",
        "train_dataset = np.array(train_dataset)\n",
        "train_labels = np.array(train_labels)"
      ]
    },
    {
      "cell_type": "code",
      "execution_count": null,
      "metadata": {
        "colab": {
          "base_uri": "https://localhost:8080/"
        },
        "id": "3QbiFlzCtZQu",
        "outputId": "5c8271c8-26e7-49a6-a047-ee3689ec80fb"
      },
      "outputs": [
        {
          "name": "stdout",
          "output_type": "stream",
          "text": [
            "Dataset shape: (15834, 64, 64, 3)\n",
            "Labels shape: (15834,)\n"
          ]
        }
      ],
      "source": [
        "# train_dataset shape\n",
        "\n",
        "print(f\"Dataset shape: {train_dataset.shape}\")\n",
        "print(f\"Labels shape: {train_labels.shape}\")"
      ]
    },
    {
      "cell_type": "code",
      "execution_count": null,
      "metadata": {
        "colab": {
          "base_uri": "https://localhost:8080/",
          "height": 441
        },
        "id": "nGEqVaZ0th98",
        "outputId": "31d369a9-db2c-4351-fef9-b6d5225d6974"
      },
      "outputs": [
        {
          "data": {
            "image/png": "[encoded data removed]",
            "text/plain": [
              "<Figure size 640x480 with 1 Axes>"
            ]
          },
          "metadata": {},
          "output_type": "display_data"
        },
        {
          "name": "stdout",
          "output_type": "stream",
          "text": [
            "9\n",
            "Gray Wagtail\n"
          ]
        }
      ],
      "source": [
        "# 저장된 데이터셋 테스트\n",
        "# RGB 잘 유지되는 것 확인 완료\n",
        "# label 출력 확인\n",
        "\n",
        "image = Image.fromarray(train_dataset[1])\n",
        "\n",
        "plt.imshow(image)\n",
        "plt.axis('off')\n",
        "plt.show()\n",
        "\n",
        "print(train_labels[1])\n",
        "print(index_to_label[train_labels[1]])"
      ]
    },
    {
      "cell_type": "code",
      "execution_count": null,
      "metadata": {
        "colab": {
          "base_uri": "https://localhost:8080/"
        },
        "id": "enI3uwwFwA5A",
        "outputId": "0b0feeb1-6ab3-4885-ff05-afb65de60dad"
      },
      "outputs": [
        {
          "name": "stdout",
          "output_type": "stream",
          "text": [
            "Train Dataset shape: (11083, 64, 64, 3), Train Labels shape: (11083,)\n",
            "Test Dataset shape: (4751, 64, 64, 3), Test Labels shape: (4751,)\n"
          ]
        }
      ],
      "source": [
        "# train_test_split을 사용하여 데이터 분리\n",
        "train_data, test_data, train_labels, test_labels = train_test_split(\n",
        "    train_dataset, train_labels, test_size=0.3, random_state=77, shuffle=True\n",
        ")\n",
        "\n",
        "print(f\"Train Dataset shape: {train_data.shape}, Train Labels shape: {train_labels.shape}\")\n",
        "print(f\"Test Dataset shape: {test_data.shape}, Test Labels shape: {test_labels.shape}\")"
      ]
    },
    {
      "cell_type": "code",
      "execution_count": null,
      "metadata": {
        "id": "47vunL8uugag"
      },
      "outputs": [],
      "source": [
        "# Custom Dataset Class\n",
        "class CustomImageDataset(Dataset):\n",
        "    def __init__(self, data, labels, transform=None):\n",
        "        \"\"\"\n",
        "        Args:\n",
        "            data (numpy.ndarray): (N, H, W, C) 형태의 이미지 데이터셋\n",
        "            labels (numpy.ndarray): (N,) 형태의 라벨\n",
        "            transform (callable, optional): 이미지에 적용할 변환 함수\n",
        "        \"\"\"\n",
        "        self.data = data\n",
        "        self.labels = labels\n",
        "        self.transform = transform\n",
        "\n",
        "    def __len__(self):\n",
        "        return len(self.data)\n",
        "\n",
        "    def __getitem__(self, idx):\n",
        "        # 이미지와 라벨 가져오기\n",
        "        image = self.data[idx]\n",
        "        label = self.labels[idx]\n",
        "\n",
        "        # NumPy 배열을 PyTorch 텐서로 변환\n",
        "        # Pytorch 가 처리하기 위해서는 저장된 shpae 형태를 바꾸어줘야함\n",
        "        image = torch.from_numpy(image).permute(2, 0, 1).float()  # (H, W, C) → (C, H, W)\n",
        "\n",
        "        # 정규화된 변환 적용\n",
        "        if self.transform:\n",
        "            image = self.transform(image)\n",
        "\n",
        "        return image, label"
      ]
    },
    {
      "cell_type": "code",
      "execution_count": null,
      "metadata": {
        "id": "LENu25tQvvvQ"
      },
      "outputs": [],
      "source": [
        "# Transform 정의 (정규화)\n",
        "# Note : 0 ~ 255 사이의 값을 [-1 ~ 1] 사이 값으로 조정\n",
        "transform = transforms.Compose([\n",
        "    transforms.Normalize(mean=[0.5, 0.5, 0.5], std=[0.5, 0.5, 0.5])\n",
        "])\n",
        "\n",
        "# Dataset 및 DataLoader 생성\n",
        "train_dataset = CustomImageDataset(train_data, train_labels, transform=transform)\n",
        "test_dataset = CustomImageDataset(test_data, test_labels, transform=transform)\n",
        "\n",
        "train_loader = DataLoader(train_dataset, batch_size=256, shuffle=True)\n",
        "test_loader = DataLoader(test_dataset, batch_size=256, shuffle=False)"
      ]
    },
    {
      "cell_type": "code",
      "execution_count": null,
      "metadata": {
        "id": "IgwrLUm_xBYP"
      },
      "outputs": [],
      "source": [
        "# 간단한 CNN 모델\n",
        "class SimpleCNN(nn.Module):\n",
        "    def __init__(self):\n",
        "        super(SimpleCNN, self).__init__()\n",
        "        self.conv1 = nn.Conv2d(3, 64, kernel_size=3, stride=1, padding=1)  # (C, H, W) → (32, H, W)\n",
        "        self.conv2 = nn.Conv2d(64, 64, kernel_size=3, stride=1, padding=1) # (32, H, W) → (64, H, W)\n",
        "        self.pool = nn.MaxPool2d(kernel_size=2, stride=2)  # (H, W) → (H/2, W/2)\n",
        "        self.fc1 = nn.Linear(64 * 16 * 16, 128)  # Flatten → Fully Connected\n",
        "        self.fc2 = nn.Linear(128, 25)  # 10 클래스 출력\n",
        "\n",
        "    def forward(self, x):\n",
        "        x = self.pool(F.relu(self.conv1(x)))\n",
        "        x = self.pool(F.relu(self.conv2(x)))\n",
        "        x = x.view(x.size(0), -1)  # Flatten\n",
        "        x = F.relu(self.fc1(x))\n",
        "        x = self.fc2(x)\n",
        "        return x"
      ]
    },
    {
      "cell_type": "code",
      "execution_count": null,
      "metadata": {
        "id": "V9t-fPBczK7u"
      },
      "outputs": [],
      "source": [
        "def train_model(model, train_loader, criterion, optimizer, device):\n",
        "    model.train()  # 모델을 학습 모드로 설정\n",
        "    running_loss = 0.0\n",
        "\n",
        "    for images, labels in train_loader:\n",
        "        images, labels = images.to(device), labels.to(device)  # 데이터를 GPU/CPU로 이동\n",
        "\n",
        "        # Forward Pass\n",
        "        outputs = model(images)\n",
        "        loss = criterion(outputs, labels)\n",
        "\n",
        "        # Backward Pass 및 최적화\n",
        "        optimizer.zero_grad()\n",
        "        loss.backward()\n",
        "        optimizer.step()\n",
        "\n",
        "        running_loss += loss.item()\n",
        "\n",
        "    return running_loss / len(train_loader)\n"
      ]
    },
    {
      "cell_type": "code",
      "execution_count": null,
      "metadata": {
        "id": "t6pOorezzMft"
      },
      "outputs": [],
      "source": [
        "def test_model(model, test_loader, criterion, device):\n",
        "    model.eval()  # 모델을 평가 모드로 설정\n",
        "    running_loss = 0.0\n",
        "    correct = 0\n",
        "\n",
        "    with torch.no_grad():\n",
        "        for images, labels in test_loader:\n",
        "            images, labels = images.to(device), labels.to(device)\n",
        "\n",
        "            outputs = model(images)\n",
        "            loss = criterion(outputs, labels)\n",
        "            running_loss += loss.item()\n",
        "\n",
        "            # 정확도 계산\n",
        "            _, predicted = torch.max(outputs, 1)\n",
        "            correct += (predicted == labels).sum().item()\n",
        "\n",
        "    accuracy = correct / len(test_loader.dataset)\n",
        "    return running_loss / len(test_loader), accuracy\n"
      ]
    },
    {
      "cell_type": "code",
      "execution_count": null,
      "metadata": {
        "colab": {
          "base_uri": "https://localhost:8080/"
        },
        "id": "EVWcCO_0zN9e",
        "outputId": "7f51e4a3-eaf5-4b50-d246-38fdfa3ae646"
      },
      "outputs": [
        {
          "name": "stdout",
          "output_type": "stream",
          "text": [
            "Epoch 1/5, Train Loss: 13.9477, Test Loss: 3.0705, Test Accuracy: 0.1029\n",
            "Epoch 2/5, Train Loss: 2.8684, Test Loss: 2.9242, Test Accuracy: 0.1726\n",
            "Epoch 3/5, Train Loss: 2.5273, Test Loss: 2.9365, Test Accuracy: 0.1863\n",
            "Epoch 4/5, Train Loss: 2.2155, Test Loss: 2.9367, Test Accuracy: 0.2071\n",
            "Epoch 5/5, Train Loss: 1.9117, Test Loss: 3.0692, Test Accuracy: 0.2197\n"
          ]
        }
      ],
      "source": [
        "# 모델 초기화\n",
        "device = torch.device('cuda' if torch.cuda.is_available() else 'cpu')\n",
        "model = SimpleCNN().to(device)\n",
        "\n",
        "# 손실 함수 및 옵티마이저\n",
        "criterion = nn.CrossEntropyLoss()\n",
        "optimizer = torch.optim.Adam(model.parameters(), lr=0.001)\n",
        "\n",
        "# 학습 루프\n",
        "num_epochs = 5\n",
        "for epoch in range(num_epochs):\n",
        "    train_loss = train_model(model, train_loader, criterion, optimizer, device)\n",
        "    test_loss, test_accuracy = test_model(model, test_loader, criterion, device)\n",
        "\n",
        "    print(f\"Epoch {epoch+1}/{num_epochs}, \"\n",
        "          f\"Train Loss: {train_loss:.4f}, \"\n",
        "          f\"Test Loss: {test_loss:.4f}, \"\n",
        "          f\"Test Accuracy: {test_accuracy:.4f}\")\n"
      ]
    },
    {
      "cell_type": "code",
      "execution_count": null,
      "metadata": {
        "id": "S-0IzsbNzRGj"
      },
      "outputs": [],
      "source": [
        "# 학습 데이터 파일 형태로 저장\n",
        "# kaggle 등 다른 플랫폼에서 데이터만 가져와 활용 가능\n",
        "\n",
        "np.save('/content/drive/MyDrive/25 Witnter DL/train_dataset.npy', train_dataset)\n",
        "np.save('/content/drive/MyDrive/25 Witnter DL/train_labels.npy', train_labels)\n",
        "\n",
        "# numpy 데이터 불러와서 아래와 같이 데이터 분리 필요\n",
        "\n",
        "# # train_test_split을 사용하여 데이터 분리\n",
        "# train_data, test_data, train_labels, test_labels = train_test_split(\n",
        "#     train_dataset, train_labels, test_size=0.3, random_state=77, shuffle=True\n",
        "# )\n",
        "\n",
        "# print(f\"Train Dataset shape: {train_data.shape}, Train Labels shape: {train_labels.shape}\")\n",
        "# print(f\"Test Dataset shape: {test_data.shape}, Test Labels shape: {test_labels.shape}\")"
      ]
    },
    {
      "cell_type": "code",
      "execution_count": null,
      "metadata": {
        "colab": {
          "base_uri": "https://localhost:8080/"
        },
        "id": "00_hbJ0U65ti",
        "outputId": "e7cd40f7-6fa6-4110-eb21-0f70b0e4e8f7"
      },
      "outputs": [
        {
          "name": "stdout",
          "output_type": "stream",
          "text": [
            "(15834, 64, 64, 3)\n"
          ]
        }
      ],
      "source": [
        "loaded_array = np.load('/content/drive/MyDrive/25 Witnter DL/train_dataset.npy')\n",
        "print(loaded_array.shape)"
      ]
    },
    {
      "cell_type": "code",
      "execution_count": null,
      "metadata": {
        "colab": {
          "base_uri": "https://localhost:8080/"
        },
        "id": "sZdCRJNz8rCI",
        "outputId": "a3aa98ad-3d88-4c63-dd88-f4ac2f6b78fa"
      },
      "outputs": [
        {
          "name": "stdout",
          "output_type": "stream",
          "text": [
            "(15834,)\n"
          ]
        }
      ],
      "source": [
        "loaded_array = np.load('/content/drive/MyDrive/25 Witnter DL/train_labels.npy')\n",
        "print(loaded_array.shape)"
      ]
    },
    {
      "cell_type": "code",
      "execution_count": null,
      "metadata": {
        "id": "ezQEMeou8uKr"
      },
      "outputs": [],
      "source": []
    }
  ],
  "metadata": {
    "colab": {
      "provenance": []
    },
    "kernelspec": {
      "display_name": "Python 3.10.6 64-bit ('3.10.6')",
      "language": "python",
      "name": "python3"
    },
    "language_info": {
      "name": "python",
      "version": "3.10.6"
    },
    "vscode": {
      "interpreter": {
        "hash": "a6bbcf36dc5df263ca68502d6771d4ac689cc117f1ed616cc5072a0f313fc5b7"
      }
    }
  },
  "nbformat": 4,
  "nbformat_minor": 0
}
